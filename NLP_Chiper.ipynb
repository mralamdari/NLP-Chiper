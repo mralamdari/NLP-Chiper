{
  "nbformat": 4,
  "nbformat_minor": 0,
  "metadata": {
    "colab": {
      "name": "NLP-Chiper.ipynb",
      "provenance": [],
      "collapsed_sections": [],
      "authorship_tag": "ABX9TyPMM92ewozhCgF77DlU38i6",
      "include_colab_link": true
    },
    "kernelspec": {
      "name": "python3",
      "display_name": "Python 3"
    },
    "language_info": {
      "name": "python"
    }
  },
  "cells": [
    {
      "cell_type": "markdown",
      "metadata": {
        "id": "view-in-github",
        "colab_type": "text"
      },
      "source": [
        "<a href=\"https://colab.research.google.com/github/mralamdari/NLP-Chiper/blob/main/NLP_Chiper.ipynb\" target=\"_parent\"><img src=\"https://colab.research.google.com/assets/colab-badge.svg\" alt=\"Open In Colab\"/></a>"
      ]
    },
    {
      "cell_type": "code",
      "execution_count": 2,
      "metadata": {
        "id": "diPwwgV6IKxU"
      },
      "outputs": [],
      "source": [
        "import re\n",
        "import os\n",
        "import string\n",
        "import textwrap\n",
        "import requests\n",
        "import numpy as np\n",
        "import matplotlib.pyplot as plt"
      ]
    },
    {
      "cell_type": "code",
      "source": [
        "string.ascii_lowercase #r'[a-z]'"
      ],
      "metadata": {
        "colab": {
          "base_uri": "https://localhost:8080/",
          "height": 36
        },
        "id": "1Ni9kNhTdJMz",
        "outputId": "715bcce1-11fb-4d1e-b17e-9a5482da83e3"
      },
      "execution_count": 3,
      "outputs": [
        {
          "output_type": "execute_result",
          "data": {
            "text/plain": [
              "'abcdefghijklmnopqrstuvwxyz'"
            ],
            "application/vnd.google.colaboratory.intrinsic+json": {
              "type": "string"
            }
          },
          "metadata": {},
          "execution_count": 3
        }
      ]
    },
    {
      "cell_type": "code",
      "source": [
        "string.ascii_uppercase #r'[A-Z]'"
      ],
      "metadata": {
        "colab": {
          "base_uri": "https://localhost:8080/",
          "height": 36
        },
        "id": "raGzStSGd22Z",
        "outputId": "0b6ff0a1-176f-4451-e2b1-86ac4131bc57"
      },
      "execution_count": 4,
      "outputs": [
        {
          "output_type": "execute_result",
          "data": {
            "text/plain": [
              "'ABCDEFGHIJKLMNOPQRSTUVWXYZ'"
            ],
            "application/vnd.google.colaboratory.intrinsic+json": {
              "type": "string"
            }
          },
          "metadata": {},
          "execution_count": 4
        }
      ]
    },
    {
      "cell_type": "code",
      "source": [
        "string.ascii_letters   #r'[a-zA-Z]'"
      ],
      "metadata": {
        "colab": {
          "base_uri": "https://localhost:8080/",
          "height": 36
        },
        "id": "iaedANK1eTch",
        "outputId": "b183cb71-adb9-43d3-f9cf-95df7121809f"
      },
      "execution_count": 5,
      "outputs": [
        {
          "output_type": "execute_result",
          "data": {
            "text/plain": [
              "'abcdefghijklmnopqrstuvwxyzABCDEFGHIJKLMNOPQRSTUVWXYZ'"
            ],
            "application/vnd.google.colaboratory.intrinsic+json": {
              "type": "string"
            }
          },
          "metadata": {},
          "execution_count": 5
        }
      ]
    },
    {
      "cell_type": "code",
      "source": [
        "letters1 = list(string.ascii_lowercase)\n",
        "letters2 = list(string.ascii_lowercase)"
      ],
      "metadata": {
        "id": "Dy7dbd3zd9Hy"
      },
      "execution_count": 11,
      "outputs": []
    },
    {
      "cell_type": "code",
      "source": [
        "np.random.shuffle(letters2)"
      ],
      "metadata": {
        "id": "Cf1v_diIj7sp"
      },
      "execution_count": 12,
      "outputs": []
    },
    {
      "cell_type": "code",
      "source": [
        "mapping_dic = {}\n",
        "for l1, l2 in zip(letters1, letters2):\n",
        "  mapping_dic[l1] = l2"
      ],
      "metadata": {
        "id": "PU-kku_we7wj"
      },
      "execution_count": 13,
      "outputs": []
    },
    {
      "cell_type": "code",
      "source": [
        "mapping_dic"
      ],
      "metadata": {
        "colab": {
          "base_uri": "https://localhost:8080/"
        },
        "id": "v62jw5WUj24c",
        "outputId": "9e5d25a6-fe58-459f-bef6-084c1ba1924d"
      },
      "execution_count": 14,
      "outputs": [
        {
          "output_type": "execute_result",
          "data": {
            "text/plain": [
              "{'a': 't',\n",
              " 'b': 'x',\n",
              " 'c': 'z',\n",
              " 'd': 'b',\n",
              " 'e': 'r',\n",
              " 'f': 'h',\n",
              " 'g': 'p',\n",
              " 'h': 'l',\n",
              " 'i': 'c',\n",
              " 'j': 'm',\n",
              " 'k': 'g',\n",
              " 'l': 'u',\n",
              " 'm': 'a',\n",
              " 'n': 'o',\n",
              " 'o': 'v',\n",
              " 'p': 'd',\n",
              " 'q': 'f',\n",
              " 'r': 'n',\n",
              " 's': 'j',\n",
              " 't': 'e',\n",
              " 'u': 'w',\n",
              " 'v': 'i',\n",
              " 'w': 's',\n",
              " 'x': 'y',\n",
              " 'y': 'q',\n",
              " 'z': 'k'}"
            ]
          },
          "metadata": {},
          "execution_count": 14
        }
      ]
    },
    {
      "cell_type": "code",
      "source": [
        "# Letters ==> [97-122]\n",
        "for i in letters1:\n",
        "  print(ord(i))"
      ],
      "metadata": {
        "colab": {
          "base_uri": "https://localhost:8080/"
        },
        "id": "a0QzuS8IkFmx",
        "outputId": "278f4e1f-0c0c-4252-96b8-680216deb9d0"
      },
      "execution_count": 19,
      "outputs": [
        {
          "output_type": "stream",
          "name": "stdout",
          "text": [
            "97\n",
            "98\n",
            "99\n",
            "100\n",
            "101\n",
            "102\n",
            "103\n",
            "104\n",
            "105\n",
            "106\n",
            "107\n",
            "108\n",
            "109\n",
            "110\n",
            "111\n",
            "112\n",
            "113\n",
            "114\n",
            "115\n",
            "116\n",
            "117\n",
            "118\n",
            "119\n",
            "120\n",
            "121\n",
            "122\n"
          ]
        }
      ]
    },
    {
      "cell_type": "code",
      "source": [
        "M = np.ones((26, 26))\n",
        "pi = np.zeros(26)\n",
        "\n",
        "def update_transition(ch1, ch2):\n",
        "  i = ord(ch1) - 97\n",
        "  j = ord(ch2) - 97\n",
        "  M[i, j] += 1"
      ],
      "metadata": {
        "id": "jn_v7Ak3klI8"
      },
      "execution_count": 20,
      "outputs": []
    },
    {
      "cell_type": "code",
      "source": [
        "def update_pi(ch):\n",
        "  i = ord(ch) - 97\n",
        "  pi[i] += 1"
      ],
      "metadata": {
        "id": "_zEN-owjlcer"
      },
      "execution_count": 39,
      "outputs": []
    },
    {
      "cell_type": "code",
      "source": [
        "def word_prob(word):\n",
        "  i = ord(word[0]) - 97\n",
        "  log_p = np.log(pi[i])\n",
        "\n",
        "  for ch in word[1:]: \n",
        "    j = ord(ch) - 97\n",
        "    log_p += np.log(M[i, j])\n",
        "    i=j\n",
        "  return log_p"
      ],
      "metadata": {
        "id": "f1g-MvAblj-s"
      },
      "execution_count": 23,
      "outputs": []
    },
    {
      "cell_type": "code",
      "source": [
        "def sequence_prob(sentence):\n",
        "  if type(sentence) == str:\n",
        "    sentence = sentence.split()\n",
        "  \n",
        "  total_log_p = 0\n",
        "  for word in sentence:\n",
        "    total_log_p += word_prob(word)\n",
        "  return total_log_p"
      ],
      "metadata": {
        "id": "doRzGNxKmIN_"
      },
      "execution_count": 24,
      "outputs": []
    },
    {
      "cell_type": "code",
      "source": [
        "# !wget 'https://lazyprogrammer.me/course_files/moby_dick.txt'\n",
        "\n",
        "if not os.path.exists('moby_dick.txt'):\n",
        "  r = requests.get('https://lazyprogrammer.me/course_files/moby_dick.txt')\n",
        "  with open('moby_dick.txt', 'w') as f:\n",
        "    f.write(r.content.decode())"
      ],
      "metadata": {
        "id": "ulVP75AwmlOG"
      },
      "execution_count": 35,
      "outputs": []
    },
    {
      "cell_type": "code",
      "source": [
        "regex = re.compile('[^a-zA-Z]')"
      ],
      "metadata": {
        "id": "aNcXYJ9Qm7wy"
      },
      "execution_count": 36,
      "outputs": []
    },
    {
      "cell_type": "code",
      "source": [
        "for line in open('moby_dick.txt'):\n",
        "  line = line.rstrip()\n",
        "  if line:\n",
        "    line = regex.sub(' ', line)\n",
        "    tokens = line.lower().split()\n",
        "    for token in tokens:\n",
        "      ch0 = token[0]\n",
        "      update_pi(ch0)\n",
        "\n",
        "      for ch1  in token[1:]:\n",
        "        update_transition(ch0, ch1)\n",
        "        ch0 = ch1\n",
        "  pi /= pi.sum()\n",
        "  M /= M.sum(axis=1, keepdims=True)"
      ],
      "metadata": {
        "id": "3z9xzyrRnp_Y"
      },
      "execution_count": 40,
      "outputs": []
    },
    {
      "cell_type": "code",
      "source": [
        "pi"
      ],
      "metadata": {
        "colab": {
          "base_uri": "https://localhost:8080/"
        },
        "id": "SIVv66L1nYOM",
        "outputId": "afde0dd3-6836-46d2-b064-070c79268d6e"
      },
      "execution_count": 41,
      "outputs": [
        {
          "output_type": "execute_result",
          "data": {
            "text/plain": [
              "array([1.82617134e-01, 7.63873099e-05, 1.80555582e-01, 1.49525408e-02,\n",
              "       5.89247993e-15, 1.66667106e-01, 5.45290621e-06, 2.78486395e-02,\n",
              "       1.48867670e-02, 5.53517367e-26, 2.80799957e-36, 9.92067232e-04,\n",
              "       1.48867909e-02, 1.98449039e-03, 3.33410397e-01, 9.97514390e-04,\n",
              "       1.37218916e-84, 2.77777781e-02, 1.52411032e-02, 1.50339690e-02,\n",
              "       9.97538629e-04, 1.19463184e-11, 1.06874133e-03, 0.00000000e+00,\n",
              "       1.86689290e-27, 0.00000000e+00])"
            ]
          },
          "metadata": {},
          "execution_count": 41
        }
      ]
    },
    {
      "cell_type": "code",
      "source": [
        "M[0]"
      ],
      "metadata": {
        "colab": {
          "base_uri": "https://localhost:8080/"
        },
        "id": "MSqOx_9dpLRk",
        "outputId": "2f7c8152-0353-4d34-9989-312e828f950e"
      },
      "execution_count": 43,
      "outputs": [
        {
          "output_type": "execute_result",
          "data": {
            "text/plain": [
              "array([0.00000000e+000, 3.58819384e-014, 1.11111213e-001, 1.73611272e-004,\n",
              "       0.00000000e+000, 5.55555556e-002, 8.68055556e-004, 3.58819384e-014,\n",
              "       7.84145930e-003, 0.00000000e+000, 8.68055556e-004, 5.88352784e-006,\n",
              "       8.04115161e-010, 6.73676048e-001, 0.00000000e+000, 4.19097276e-015,\n",
              "       0.00000000e+000, 6.97917673e-002, 1.40630787e-002, 6.34121657e-002,\n",
              "       9.96720169e-016, 8.68055556e-004, 8.68055716e-004, 4.01877572e-009,\n",
              "       8.96990741e-004, 1.61926312e-177])"
            ]
          },
          "metadata": {},
          "execution_count": 43
        }
      ]
    },
    {
      "cell_type": "code",
      "source": [
        ""
      ],
      "metadata": {
        "id": "F0g6fmzkpLuP"
      },
      "execution_count": null,
      "outputs": []
    }
  ]
}